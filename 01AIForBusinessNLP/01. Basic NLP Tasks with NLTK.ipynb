{
  "cells": [
    {
      "cell_type": "markdown",
      "source": [
        "# AI for Business by AIChampionsHub\n",
        "## Module : Natural Language Processing\n",
        "## Lesson : 01 - NLP Basics or Warm-up"
      ],
      "metadata": {
        "id": "2HJjRqv6zNhk"
      }
    },
    {
      "cell_type": "markdown",
      "source": [
        "NLP Course we try to balance between Theory, Practical and Business Application.\n",
        "This and other NLP Notebooks introduce key NLP Concepts.\n",
        "- NTLK : A popular library that helps balance between Theory and Practice.\n",
        "https://thinkinfi.com/how-to-download-nltk-corpus-manually/"
      ],
      "metadata": {
        "id": "g31LVuyKzWAk"
      }
    },
    {
      "cell_type": "code",
      "execution_count": null,
      "metadata": {
        "id": "7zlPfR7my6q1"
      },
      "outputs": [],
      "source": [
        "import nltk\n",
        "from nltk.tokenize import word_tokenize, sent_tokenize\n",
        "nltk.download(\"tests\")  ## popular, tests, book Optional Step"
      ]
    },
    {
      "cell_type": "markdown",
      "source": [
        "# Section 1 : Basic units of Text processing"
      ],
      "metadata": {
        "id": "-wfirtTwWmkL"
      }
    },
    {
      "cell_type": "markdown",
      "source": [
        "*   **Token**: Technical name for a sequence of characters that we want to treat as group.\n",
        "*   **Count of Tokens** : Number of occurences of these sequences\n",
        "*   **Vocabulary** of a text: Set of tokens that it uses. Note: In set the duplicates are collapsed or removed - so only look at Unique combinations\n",
        "\n"
      ],
      "metadata": {
        "id": "iRiFEDAnCbO3"
      }
    },
    {
      "cell_type": "code",
      "source": [
        "nltk.download('punkt')\n",
        "from nltk.tokenize import sent_tokenize, word_tokenize"
      ],
      "metadata": {
        "colab": {
          "base_uri": "https://localhost:8080/"
        },
        "id": "sby4Wii2D-nD",
        "outputId": "c4929e39-51e3-401e-eaa0-a297e1638b26"
      },
      "execution_count": 7,
      "outputs": [
        {
          "output_type": "stream",
          "name": "stderr",
          "text": [
            "[nltk_data] Downloading package punkt to /root/nltk_data...\n",
            "[nltk_data]   Package punkt is already up-to-date!\n"
          ]
        }
      ]
    },
    {
      "cell_type": "markdown",
      "source": [
        "### Tokenize Sample Text"
      ],
      "metadata": {
        "id": "gmNf19O1ehPS"
      }
    },
    {
      "cell_type": "code",
      "source": [
        "sample = \"Welcome to NLP Basics Class. This class is about learning NLP For Business Application\"\n",
        "\n",
        "sample_tokens = nltk.tokenize.word_tokenize(sample)\n",
        "print(\"\\nInput Text       :\", sample)\n",
        "print(\"Count of Text: \", len(sample))\n",
        "print(\"\\nTokens of Input  :\", sample_tokens)\n",
        "print(\"Tokens of Input  Count : \", len(sample_tokens))\n",
        "\n",
        "sample_tokens_unique = set(sample_tokens)\n",
        "print(\"\\nUnique elements - Count : \", len(sample_tokens_unique))\n",
        "print(\"Unique elements - Tokens: \", sample_tokens_unique)\n",
        "\n",
        "sample_tokens_unique_sorted = sorted(set(sample_tokens))\n",
        "print(\"\\nUnique elements and Sorted : \", sample_tokens_unique_sorted)"
      ],
      "metadata": {
        "colab": {
          "base_uri": "https://localhost:8080/"
        },
        "id": "0Xf5wWoeeZd6",
        "outputId": "e72b8b83-0dca-4e49-ce16-dd9b16660879"
      },
      "execution_count": 18,
      "outputs": [
        {
          "output_type": "stream",
          "name": "stdout",
          "text": [
            "\n",
            "Input Text       : Welcome to NLP Basics Class. This class is about learning NLP For Business Application\n",
            "Count of Text:  86\n",
            "\n",
            "Tokens of Input  : ['Welcome', 'to', 'NLP', 'Basics', 'Class', '.', 'This', 'class', 'is', 'about', 'learning', 'NLP', 'For', 'Business', 'Application']\n",
            "Tokens of Input  Count :  15\n",
            "\n",
            "Unique elements - Count :  14\n",
            "Unique elements - Tokens:  {'NLP', 'This', 'about', 'to', '.', 'Welcome', 'Basics', 'class', 'For', 'Class', 'learning', 'is', 'Business', 'Application'}\n",
            "\n",
            "Unique elements and Sorted :  ['.', 'Application', 'Basics', 'Business', 'Class', 'For', 'NLP', 'This', 'Welcome', 'about', 'class', 'is', 'learning', 'to']\n"
          ]
        }
      ]
    },
    {
      "cell_type": "code",
      "source": [
        "# Lexical Diversity\n",
        "len(sample_tokens)/len(sample_tokens_unique)*100"
      ],
      "metadata": {
        "id": "aB6RKeWbgoH7",
        "outputId": "935ec893-7044-46ae-875f-9ce081f09f6c",
        "colab": {
          "base_uri": "https://localhost:8080/"
        }
      },
      "execution_count": 20,
      "outputs": [
        {
          "output_type": "execute_result",
          "data": {
            "text/plain": [
              "107.14285714285714"
            ]
          },
          "metadata": {},
          "execution_count": 20
        }
      ]
    },
    {
      "cell_type": "markdown",
      "source": [
        "# Reading a Corpus and Analysis\n",
        "\n",
        "*   Corpora: Practical work in Natural Language Processing typically uses large bodies of linguistic data, or corpora.\n",
        "*   NTLK provides various corpuses.\n",
        "*   The Brown Corpus was the first million-word electronic corpus of English, created in 1961 at Brown University.\n",
        "*   This corpus contains text from 500 sources, and the sources have been categorized by genre, such as news, editorial, and so on. 1.1 gives an example of each genre (for a complete list, see http://icame.uib.no/brown/bcm-los.html).\n",
        "\n"
      ],
      "metadata": {
        "id": "H0X-fJE0husl"
      }
    },
    {
      "cell_type": "markdown",
      "source": [
        "![image.png](data:image/png;base64,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)"
      ],
      "metadata": {
        "id": "j5OXjRJnipOV"
      }
    },
    {
      "cell_type": "code",
      "source": [
        "nltk.download('brown')"
      ],
      "metadata": {
        "id": "Z9lSaFCGiIE3",
        "outputId": "2c08ae1b-0719-4cd1-ed81-ac926d914029",
        "colab": {
          "base_uri": "https://localhost:8080/"
        }
      },
      "execution_count": 31,
      "outputs": [
        {
          "output_type": "stream",
          "name": "stderr",
          "text": [
            "[nltk_data] Downloading package brown to /root/nltk_data...\n",
            "[nltk_data]   Package brown is already up-to-date!\n"
          ]
        },
        {
          "output_type": "execute_result",
          "data": {
            "text/plain": [
              "True"
            ]
          },
          "metadata": {},
          "execution_count": 31
        }
      ]
    },
    {
      "cell_type": "code",
      "source": [
        "nltk.corpus.brown.categories()"
      ],
      "metadata": {
        "id": "SVUc56KDjSpq",
        "outputId": "f06fa8af-6a20-4db0-a410-c0c8b03db7d2",
        "colab": {
          "base_uri": "https://localhost:8080/"
        }
      },
      "execution_count": 29,
      "outputs": [
        {
          "output_type": "execute_result",
          "data": {
            "text/plain": [
              "['adventure',\n",
              " 'belles_lettres',\n",
              " 'editorial',\n",
              " 'fiction',\n",
              " 'government',\n",
              " 'hobbies',\n",
              " 'humor',\n",
              " 'learned',\n",
              " 'lore',\n",
              " 'mystery',\n",
              " 'news',\n",
              " 'religion',\n",
              " 'reviews',\n",
              " 'romance',\n",
              " 'science_fiction']"
            ]
          },
          "metadata": {},
          "execution_count": 29
        }
      ]
    },
    {
      "cell_type": "code",
      "source": [
        "print(\"Words in the whole Corpus : \", len(nltk.corpus.brown.words()))\n",
        "news_text = nltk.corpus.brown.words(categories='news')\n",
        "print(\"Sample Words in the news genre : \",news_text)"
      ],
      "metadata": {
        "id": "cEMJqeIWjZgO",
        "outputId": "855848b4-619b-4bda-8e46-cc1864fa144a",
        "colab": {
          "base_uri": "https://localhost:8080/"
        }
      },
      "execution_count": 46,
      "outputs": [
        {
          "output_type": "stream",
          "name": "stdout",
          "text": [
            "Words in the whole Corpus :  1161192\n",
            "Sample Words in the news genre :  ['The', 'Fulton', 'County', 'Grand', 'Jury', 'said', ...]\n"
          ]
        }
      ]
    },
    {
      "cell_type": "code",
      "source": [
        "sents = nltk.corpus.brown.sents()\n",
        "print(\"Sentences\")\n",
        "print(sents[0])\n",
        "print(sents[1])"
      ],
      "metadata": {
        "id": "BOs7B985n2E6",
        "outputId": "4ab1d609-3c68-46aa-c0a6-c6ccff6ac486",
        "colab": {
          "base_uri": "https://localhost:8080/"
        }
      },
      "execution_count": 49,
      "outputs": [
        {
          "output_type": "stream",
          "name": "stdout",
          "text": [
            "Sentences\n",
            "['The', 'Fulton', 'County', 'Grand', 'Jury', 'said', 'Friday', 'an', 'investigation', 'of', \"Atlanta's\", 'recent', 'primary', 'election', 'produced', '``', 'no', 'evidence', \"''\", 'that', 'any', 'irregularities', 'took', 'place', '.']\n",
            "['The', 'jury', 'further', 'said', 'in', 'term-end', 'presentments', 'that', 'the', 'City', 'Executive', 'Committee', ',', 'which', 'had', 'over-all', 'charge', 'of', 'the', 'election', ',', '``', 'deserves', 'the', 'praise', 'and', 'thanks', 'of', 'the', 'City', 'of', 'Atlanta', \"''\", 'for', 'the', 'manner', 'in', 'which', 'the', 'election', 'was', 'conducted', '.']\n"
          ]
        }
      ]
    },
    {
      "cell_type": "code",
      "source": [
        "fdist = nltk.FreqDist(w.lower() for w in news_text)\n",
        "print(\"Frequency Distributon of News : \", fdist)\n",
        "sample = ['can', 'could', 'may', 'might', 'must', 'will']\n",
        "print(\"\\n Frequency Distributon of Sample : \")\n",
        "for m in sample:\n",
        "    print(m + ':', fdist[m], end=' ')"
      ],
      "metadata": {
        "id": "fBv8ZQwwkhWX",
        "outputId": "d66a574d-8b26-438c-be19-b446d2b395ec",
        "colab": {
          "base_uri": "https://localhost:8080/"
        }
      },
      "execution_count": 38,
      "outputs": [
        {
          "output_type": "stream",
          "name": "stdout",
          "text": [
            "Frequency Distributon of News :  <FreqDist with 13112 samples and 100554 outcomes>\n",
            "\n",
            " Frequency Distributon of Sample : \n",
            "can: 94 could: 87 may: 93 might: 38 must: 53 will: 389 "
          ]
        }
      ]
    },
    {
      "cell_type": "code",
      "source": [
        "# Example comparison of Genres in use of certain works like verbs\n",
        "# Observe most frequent word in our filter is will\n",
        "\n",
        "cfd = nltk.ConditionalFreqDist((genre, word)\n",
        "      for genre in nltk.corpus.brown.categories()\n",
        "      for word in nltk.corpus.brown.words(categories=genre))\n",
        "genres = ['humor','news', 'religion', 'hobbies', 'science_fiction', 'romance']\n",
        "modals = ['fun', 'can', 'could', 'may', 'might', 'must', 'will']\n",
        "cfd.tabulate(conditions=genres, samples=modals)"
      ],
      "metadata": {
        "id": "ohMrL1tMlUmP",
        "outputId": "7bbab9c1-c955-4abf-894d-7e051471b53b",
        "colab": {
          "base_uri": "https://localhost:8080/"
        }
      },
      "execution_count": 44,
      "outputs": [
        {
          "output_type": "stream",
          "name": "stdout",
          "text": [
            "                  fun   can could   may might  must  will \n",
            "          humor     3    16    30     8     8     9    13 \n",
            "           news     3    93    86    66    38    50   389 \n",
            "       religion     0    82    59    78    12    54    71 \n",
            "        hobbies    13   268    58   131    22    83   264 \n",
            "science_fiction     1    16    49     4    12     8    16 \n",
            "        romance     1    74   193    11    51    45    43 \n",
            "          humor     3    16    30     8     8     9    13 \n"
          ]
        }
      ]
    },
    {
      "cell_type": "markdown",
      "source": [
        "### Stop Words and Unusal Words"
      ],
      "metadata": {
        "id": "78oP1977ob08"
      }
    },
    {
      "cell_type": "code",
      "source": [
        "nltk.download('stopwords')\n",
        "stopwords.words('english')[0:10]  #Print few examples"
      ],
      "metadata": {
        "id": "EW9KpWoxod57",
        "outputId": "45eed6f4-c3ed-4bfc-e44d-b63aad802c03",
        "colab": {
          "base_uri": "https://localhost:8080/"
        }
      },
      "execution_count": 55,
      "outputs": [
        {
          "output_type": "stream",
          "name": "stderr",
          "text": [
            "[nltk_data] Downloading package stopwords to /root/nltk_data...\n",
            "[nltk_data]   Package stopwords is already up-to-date!\n"
          ]
        },
        {
          "output_type": "execute_result",
          "data": {
            "text/plain": [
              "['i', 'me', 'my', 'myself', 'we', 'our', 'ours', 'ourselves', 'you', \"you're\"]"
            ]
          },
          "metadata": {},
          "execution_count": 55
        }
      ]
    },
    {
      "cell_type": "markdown",
      "source": [
        "### WORDNET - Semantically oriented list, Lemmas\n",
        "*   WordNet is a semantically-oriented dictionary of English, similar to a traditional thesaurus but with a richer structure.\n",
        "*   NLTK includes the English WordNet: 155,287 words and 117,659 synonym sets.\n",
        "*   A synset is a \"synonym set\" i.e. a collection of synonymous words (or \"lemmas\"). Examples : The entity car.n.01 is called a"
      ],
      "metadata": {
        "id": "GYc__wC2pcgb"
      }
    },
    {
      "cell_type": "code",
      "source": [
        "nltk.download('wordnet')\n",
        "nltk.corpus.wordnet.synsets('motorcar')"
      ],
      "metadata": {
        "id": "4DJIpqbVppPe",
        "outputId": "b966f093-1840-4c5c-9e15-8d856062e7d8",
        "colab": {
          "base_uri": "https://localhost:8080/"
        }
      },
      "execution_count": 63,
      "outputs": [
        {
          "output_type": "stream",
          "name": "stderr",
          "text": [
            "[nltk_data] Downloading package wordnet to /root/nltk_data...\n",
            "[nltk_data]   Package wordnet is already up-to-date!\n"
          ]
        },
        {
          "output_type": "execute_result",
          "data": {
            "text/plain": [
              "[Synset('car.n.01')]"
            ]
          },
          "metadata": {},
          "execution_count": 63
        }
      ]
    },
    {
      "cell_type": "code",
      "source": [
        "nltk.corpus.wordnet.synset('car.n.01').lemma_names()  #Other meanings for a Motorcar"
      ],
      "metadata": {
        "id": "kXsTSJWFqHW3",
        "outputId": "259e3141-e158-4978-a7b5-215f90b1a207",
        "colab": {
          "base_uri": "https://localhost:8080/"
        }
      },
      "execution_count": 65,
      "outputs": [
        {
          "output_type": "execute_result",
          "data": {
            "text/plain": [
              "['car', 'auto', 'automobile', 'machine', 'motorcar']"
            ]
          },
          "metadata": {},
          "execution_count": 65
        }
      ]
    },
    {
      "cell_type": "code",
      "source": [
        "nltk.corpus.wordnet.synsets('car')  # car has multiple synomouse sets"
      ],
      "metadata": {
        "id": "3nRWML6fqscW",
        "outputId": "6913a89b-58ff-4247-aa2c-c4a6f6749322",
        "colab": {
          "base_uri": "https://localhost:8080/"
        }
      },
      "execution_count": 66,
      "outputs": [
        {
          "output_type": "execute_result",
          "data": {
            "text/plain": [
              "[Synset('car.n.01'),\n",
              " Synset('car.n.02'),\n",
              " Synset('car.n.03'),\n",
              " Synset('car.n.04'),\n",
              " Synset('cable_car.n.01')]"
            ]
          },
          "metadata": {},
          "execution_count": 66
        }
      ]
    },
    {
      "cell_type": "code",
      "source": [
        "nltk.corpus.wordnet.synset('car.n.02').lemma_names()"
      ],
      "metadata": {
        "id": "9Z3d9R-srA1f",
        "outputId": "34b26661-19d9-4576-cd06-42fbd5db980f",
        "colab": {
          "base_uri": "https://localhost:8080/"
        }
      },
      "execution_count": 67,
      "outputs": [
        {
          "output_type": "execute_result",
          "data": {
            "text/plain": [
              "['car', 'railcar', 'railway_car', 'railroad_car']"
            ]
          },
          "metadata": {},
          "execution_count": 67
        }
      ]
    },
    {
      "cell_type": "markdown",
      "source": [
        "# NLP EXAMPLE EXERCISE : 1 - SENTIMENT ANALYSIS"
      ],
      "metadata": {
        "id": "rCRHLSuBE3ni"
      }
    },
    {
      "cell_type": "markdown",
      "source": [
        "We use sample Tweets to perform the analysis.\n",
        "To use your own dataset, you can gather tweets from a specific time period, user, or hashtag by using the https://developer.twitter.com/en/docs.html"
      ],
      "metadata": {
        "id": "8q5GS-s0MjjK"
      }
    },
    {
      "cell_type": "code",
      "source": [
        "from nltk.test import *"
      ],
      "metadata": {
        "id": "Lax788PrCkN5"
      },
      "execution_count": null,
      "outputs": []
    },
    {
      "cell_type": "code",
      "source": [
        "nltk.download('twitter_samples')\n",
        "from nltk.corpus import twitter_samples"
      ],
      "metadata": {
        "colab": {
          "base_uri": "https://localhost:8080/"
        },
        "id": "ii14Vaj2ENjY",
        "outputId": "cb3a8895-30e8-4c90-e357-028843ad2756"
      },
      "execution_count": null,
      "outputs": [
        {
          "output_type": "stream",
          "name": "stderr",
          "text": [
            "[nltk_data] Downloading package twitter_samples to /root/nltk_data...\n",
            "[nltk_data]   Package twitter_samples is already up-to-date!\n"
          ]
        }
      ]
    },
    {
      "cell_type": "code",
      "execution_count": null,
      "metadata": {
        "id": "lX8GhR7zy6rA"
      },
      "outputs": [],
      "source": [
        "positive_tweets = twitter_samples.strings('positive_tweets.json')\n",
        "negative_tweets = twitter_samples.strings('negative_tweets.json')\n",
        "text = twitter_samples.strings('tweets.20150430-223406.json')   #  print all of the tweets within a dataset as strings"
      ]
    },
    {
      "cell_type": "markdown",
      "source": [
        "## STEP 1 : Tokenzie the data\n",
        "Here we can use Punkt tokenizer. The punkt module is a pre-trained model that helps you tokenize words and sentences. Works on unsupervised data."
      ],
      "metadata": {
        "id": "mz77fKg2Lyy1"
      }
    },
    {
      "cell_type": "code",
      "source": [
        "tweet_tokens = twitter_samples.tokenized('positive_tweets.json')"
      ],
      "metadata": {
        "id": "hyLsiVXXMBH_"
      },
      "execution_count": null,
      "outputs": []
    },
    {
      "cell_type": "code",
      "source": [
        "print(tweet_tokens[0])"
      ],
      "metadata": {
        "colab": {
          "base_uri": "https://localhost:8080/"
        },
        "id": "ijBVF3G4Mbcx",
        "outputId": "31c7cdf1-c5dd-4d1f-9678-851d29fe82f8"
      },
      "execution_count": null,
      "outputs": [
        {
          "output_type": "stream",
          "name": "stdout",
          "text": [
            "['#FollowFriday', '@France_Inte', '@PKuchly57', '@Milipol_Paris', 'for', 'being', 'top', 'engaged', 'members', 'in', 'my', 'community', 'this', 'week', ':)']\n"
          ]
        }
      ]
    },
    {
      "cell_type": "markdown",
      "source": [
        "## Cleaning Data : To be Updated\n",
        "Use of different text analysis methods may require different preprocessing. Some methods, like keyphrase search, work best when the text is “thoroughly cleaned”; i.e. almost reduced to a “bag of words” [28]. This means that, for instance, words are lemmatized, there is no punctuation, etc. However, some more recent techniques (like text embeddings [29]) can (and should) be trained on a “dirty” text, like Wikipedia [30] dumps or Common Crawl. Hence, it is necessary to distinguish between (at least) two levels of text\n",
        "cleaning: (A) “delicately cleaned” text (in what follows, called “Stage 1” cleaning), where only parts insignificant to the NLP analysis are removed, and (B) a “very strictly cleaned” text (called “Stage 2”cleaning).\n",
        "\n",
        "---\n",
        "\n"
      ],
      "metadata": {
        "id": "9c8qHZRhbCOW"
      }
    },
    {
      "cell_type": "markdown",
      "source": [
        "### All punctuation, numbers and other non-letter characters were removed, leaving only letters."
      ],
      "metadata": {
        "id": "nZhp4rGFbVoX"
      }
    },
    {
      "cell_type": "markdown",
      "source": [
        "### Adposition, adverb, conjunction, coordinating conjunction, determiner, interjection, numeral, particle,\n",
        "pronoun, punctuation, subordinating conjunction, symbol, end of line, space were removed. Parts of\n",
        "speech left after filtering were: verbs, nouns, auxiliaries and “other”. The “other” category is usually\n",
        "tagged for meaningless text, e.g. “asdfgh”. However, these were not deleted in case the algorithm\n",
        "detected something that was, in fact, important, e.g. domain-specific shortcuts and abbreviations like\n",
        "CNN, RNN, etc."
      ],
      "metadata": {
        "id": "HUiSWwJ4bc_L"
      }
    },
    {
      "cell_type": "markdown",
      "source": [
        "### Words have been lemmatized."
      ],
      "metadata": {
        "id": "UGPY1P3WbkRL"
      }
    },
    {
      "cell_type": "markdown",
      "source": [
        "## STEP 1 : Normalize the data - Stemming and Lemmatization\n",
        "*    Like we saw before 'List, Lists, Listing' etc...may mean similar thinkgs but we don't want them to treat as different words.\n",
        "*    So normailization is used - group together words with the same meaning but different forms.\n",
        "*    Normalization in NLP is the process of converting a word to its canonical form.\n",
        "* Explore Two popular techniques : Stemming and Lemmatization\n",
        "\n"
      ],
      "metadata": {
        "id": "FXQ3GE6rNnYJ"
      }
    },
    {
      "cell_type": "markdown",
      "source": [
        ". Stemming, working with only simple verb forms, is a heuristic process that removes the ends of words."
      ],
      "metadata": {
        "id": "VF5Bkk5EOYXY"
      }
    },
    {
      "cell_type": "markdown",
      "source": [
        "In this tutorial you will use the process of lemmatization, which normalizes a word with the context of vocabulary and morphological analysis of words in text. The lemmatization algorithm analyzes the structure of the word and its context to convert it to a normalized form. Therefore, it comes at a cost of speed. A comparison of stemming and lemmatization ultimately comes down to a trade off between speed and accuracy."
      ],
      "metadata": {
        "id": "eA6-wjzkOc_X"
      }
    },
    {
      "cell_type": "code",
      "source": [
        "nltk.download('wordnet')  #wordnet is a lexical database for the English language that helps the script determine the base word.\n",
        "nltk.download('averaged_perceptron_tagger')  # to determine the context of a word in a sentence."
      ],
      "metadata": {
        "id": "xQwJxkVZOUJR"
      },
      "execution_count": null,
      "outputs": []
    },
    {
      "cell_type": "code",
      "source": [
        "# Before running a lemmatizer, you need to determine the context for each word in your text.\n",
        "# This is achieved by a tagging algorithm, which assesses the relative position of a word in a sentence.\n",
        "\n",
        "from nltk.tag import pos_tag\n",
        "from nltk.corpus import twitter_samples\n",
        "\n",
        "tweet_tokens = twitter_samples.tokenized('positive_tweets.json')\n",
        "print(pos_tag(tweet_tokens[0]))"
      ],
      "metadata": {
        "colab": {
          "base_uri": "https://localhost:8080/"
        },
        "id": "r0uA2KvcO3qW",
        "outputId": "797fbf48-841d-49c2-9660-690bc0355b62"
      },
      "execution_count": null,
      "outputs": [
        {
          "output_type": "stream",
          "name": "stdout",
          "text": [
            "[('#FollowFriday', 'JJ'), ('@France_Inte', 'NNP'), ('@PKuchly57', 'NNP'), ('@Milipol_Paris', 'NNP'), ('for', 'IN'), ('being', 'VBG'), ('top', 'JJ'), ('engaged', 'VBN'), ('members', 'NNS'), ('in', 'IN'), ('my', 'PRP$'), ('community', 'NN'), ('this', 'DT'), ('week', 'NN'), (':)', 'NN')]\n"
          ]
        }
      ]
    },
    {
      "cell_type": "markdown",
      "source": [
        "From the list of tags, here is the list of the most common items and their meaning:\n",
        "\n",
        "1.   NNP: Noun, proper, singular\n",
        "2.   NN: Noun, common, singular or mass\n",
        "3.   IN: Preposition or conjunction, subordinating\n",
        "4.   VBG: Verb, gerund or present participle\n",
        "5.   VBN: Verb, past participle"
      ],
      "metadata": {
        "id": "pOyWvotkPJFA"
      }
    },
    {
      "cell_type": "markdown",
      "source": [
        "To incorporate this into a function that normalizes a sentence, you should first generate the tags for each token in the text, and then lemmatize each word using the tag.  \n",
        "Example : verb being changes to its root form, be, and the noun members changes to member"
      ],
      "metadata": {
        "id": "ALk7DqHZPel_"
      }
    },
    {
      "cell_type": "code",
      "source": [
        "from nltk.tag import pos_tag\n",
        "from nltk.stem.wordnet import WordNetLemmatizer\n",
        "\n",
        "def lemmatize_sentence(tokens):\n",
        "    lemmatizer = WordNetLemmatizer()\n",
        "    lemmatized_sentence = []\n",
        "    for word, tag in pos_tag(tokens):\n",
        "        if tag.startswith('NN'):\n",
        "            pos = 'n'\n",
        "        elif tag.startswith('VB'):\n",
        "            pos = 'v'\n",
        "        else:\n",
        "            pos = 'a'\n",
        "        lemmatized_sentence.append(lemmatizer.lemmatize(word, pos))\n",
        "    return lemmatized_sentence"
      ],
      "metadata": {
        "id": "GfL2dwGhPAaL"
      },
      "execution_count": null,
      "outputs": []
    },
    {
      "cell_type": "code",
      "source": [
        "print(lemmatize_sentence(tweet_tokens[0]))"
      ],
      "metadata": {
        "colab": {
          "base_uri": "https://localhost:8080/"
        },
        "id": "vYYjDMpCPmcX",
        "outputId": "eeb1c8e7-af7f-4502-81a0-c143f10a79aa"
      },
      "execution_count": null,
      "outputs": [
        {
          "output_type": "stream",
          "name": "stdout",
          "text": [
            "['#FollowFriday', '@France_Inte', '@PKuchly57', '@Milipol_Paris', 'for', 'be', 'top', 'engage', 'member', 'in', 'my', 'community', 'this', 'week', ':)']\n"
          ]
        }
      ]
    },
    {
      "cell_type": "markdown",
      "source": [
        "## Step 4 — Removing Noise from the Data\n",
        "\n",
        "*   Noise is any part of the text that does not add meaning or information to data.\n",
        "*   Stop words : Example stop words are “is”, “the”, and “a”. They are generally not relevant when processing language, unless a specific use case warrants their inclusion.\n",
        "*   We use Regular Expressions and leverage a predefined or used function.\n",
        "Link for more details : https://docs.python.org/3.6/howto/regex.html\n",
        "\n",
        "*   Examples\n",
        "**  All hyperlinks in Twitter are converted to the URL shortener t.co. and therefore don't add much value in analysis.\n",
        "**  Replies:  Twitter handles in certain replies. These Twitter usernames are preceded by a @ symbol. Even these don't help on value from.\n",
        "**  Punctuation and special characters - While these often provide context to textual data, this context is often difficult to process. For simplicity, you will remove all punctuation and special characters from tweets.\n",
        "\n"
      ],
      "metadata": {
        "id": "wc9pnO49P6Qz"
      }
    },
    {
      "cell_type": "code",
      "source": [
        "# LIST OF ALL STOPWORDS IN ENGLISH\n",
        "nltk.download('stopwords')\n",
        "from nltk.corpus import stopwords\n",
        "stop_words = stopwords.words('english')\n",
        "stop_words[:25]"
      ],
      "metadata": {
        "id": "SiZ19BTZRYrO"
      },
      "execution_count": null,
      "outputs": []
    },
    {
      "cell_type": "code",
      "source": [
        "# Code to remove noise, removes noise and incorporates the normalization and lemmatization.\n",
        "# Used sample from another site.\n",
        "import re, string\n",
        "\n",
        "def fn_Remove_Noise(tweet_tokens, stop_words = ()):\n",
        "\n",
        "    cleaned_tokens = []\n",
        "\n",
        "    for token, tag in pos_tag(tweet_tokens):\n",
        "        token = re.sub('http[s]?://(?:[a-zA-Z]|[0-9]|[$-_@.&+#]|[!*\\(\\),]|'\\\n",
        "                       '(?:%[0-9a-fA-F][0-9a-fA-F]))+','', token)\n",
        "        token = re.sub(\"(@[A-Za-z0-9_]+)\",\"\", token)\n",
        "\n",
        "        if tag.startswith(\"NN\"):\n",
        "            pos = 'n'\n",
        "        elif tag.startswith('VB'):\n",
        "            pos = 'v'\n",
        "        else:\n",
        "            pos = 'a'\n",
        "\n",
        "        lemmatizer = WordNetLemmatizer()\n",
        "        token = lemmatizer.lemmatize(token, pos)\n",
        "\n",
        "        if len(token) > 0 and token not in string.punctuation and token.lower() not in stop_words:\n",
        "            cleaned_tokens.append(token.lower())\n",
        "    return cleaned_tokens"
      ],
      "metadata": {
        "id": "JWX-Jt3wQc20"
      },
      "execution_count": null,
      "outputs": []
    },
    {
      "cell_type": "code",
      "source": [
        "#  function removes all @ mentions, stop words, and converts the words to lowercase\n",
        "print(fn_Remove_Noise(tweet_tokens[0], stop_words))"
      ],
      "metadata": {
        "colab": {
          "base_uri": "https://localhost:8080/"
        },
        "id": "-ezyuE0RRh-H",
        "outputId": "b065fbe8-89d9-4cd4-8b6d-9da9fb9fced5"
      },
      "execution_count": null,
      "outputs": [
        {
          "output_type": "stream",
          "name": "stdout",
          "text": [
            "['#followfriday', 'top', 'engage', 'member', 'community', 'week', ':)']\n"
          ]
        }
      ]
    },
    {
      "cell_type": "markdown",
      "source": [
        "### Clean all the positive and negative tweets"
      ],
      "metadata": {
        "id": "PBrucWicSDaI"
      }
    },
    {
      "cell_type": "code",
      "source": [
        "ositive_tweet_tokens = twitter_samples.tokenized('positive_tweets.json')\n",
        "negative_tweet_tokens = twitter_samples.tokenized('negative_tweets.json')\n",
        "\n",
        "positive_cleaned_tokens_list = []\n",
        "negative_cleaned_tokens_list = []\n",
        "\n",
        "positive_tweet_tokens = twitter_samples.tokenized('positive_tweets.json')\n",
        "negative_tweet_tokens = twitter_samples.tokenized('negative_tweets.json')\n",
        "\n",
        "for tokens in positive_tweet_tokens:\n",
        "    positive_cleaned_tokens_list.append(fn_Remove_Noise(tokens, stop_words))\n",
        "\n",
        "for tokens in negative_tweet_tokens:\n",
        "    negative_cleaned_tokens_list.append(fn_Remove_Noise(tokens, stop_words))"
      ],
      "metadata": {
        "id": "efmrDKnFSGvH"
      },
      "execution_count": null,
      "outputs": []
    },
    {
      "cell_type": "code",
      "source": [
        "print(positive_tweet_tokens[500])\n",
        "print(positive_cleaned_tokens_list[500])"
      ],
      "metadata": {
        "id": "sXE_5PNVSfEZ",
        "outputId": "f8a7ed54-d16f-4ca2-f113-cafde1e7da1e",
        "colab": {
          "base_uri": "https://localhost:8080/"
        }
      },
      "execution_count": null,
      "outputs": [
        {
          "output_type": "stream",
          "name": "stdout",
          "text": [
            "['Dang', 'that', 'is', 'some', 'rad', '@AbzuGame', '#fanart', '!', ':D', 'https://t.co/bI8k8tb9ht']\n",
            "['dang', 'rad', '#fanart', ':d']\n"
          ]
        }
      ]
    },
    {
      "cell_type": "markdown",
      "source": [
        "## Step 4 — Word Density, Frequency, Counts etc.\n",
        "\n",
        "*   Analyze of the frequency of words would be done on all positive tweets.\n",
        "*   Define a generator function (fn_get_all_words) that takes a list of tweets as an argument to provide a list of words in all of the tweet tokens joined."
      ],
      "metadata": {
        "id": "b1_3_tMoSpNv"
      }
    },
    {
      "cell_type": "code",
      "source": [
        "def fn_get_all_words(cleaned_tokens_list):\n",
        "    for tokens in cleaned_tokens_list:\n",
        "        for token in tokens:\n",
        "            yield token\n",
        "\n",
        "all_pos_words = fn_get_all_words(positive_cleaned_tokens_list)"
      ],
      "metadata": {
        "id": "dxD4LNYhTEJq"
      },
      "execution_count": null,
      "outputs": []
    },
    {
      "cell_type": "code",
      "source": [
        "freq_dist_pos = FreqDist(all_pos_words)\n",
        "print(freq_dist_pos.most_common(10))     #  lists the words which occur most frequently in the data\n",
        "\n",
        "# Analyze the output - see emotion or gratitude words etc. like good or thanks etc."
      ],
      "metadata": {
        "id": "Vee5bqADTJ8l",
        "outputId": "d756d3a6-d29d-4ee9-d597-d319976b7653",
        "colab": {
          "base_uri": "https://localhost:8080/"
        }
      },
      "execution_count": null,
      "outputs": [
        {
          "output_type": "stream",
          "name": "stdout",
          "text": [
            "[(':)', 3691), (':-)', 701), (':d', 658), ('thanks', 388), ('follow', 357), ('love', 333), ('...', 290), ('good', 283), ('get', 263), ('thank', 253)]\n"
          ]
        }
      ]
    },
    {
      "cell_type": "markdown",
      "source": [
        "## Step 5 — Model Building\n",
        "\n",
        "*   We can use Naive Bayes classifier in NLTK to perform the modeling.\n",
        "*   Model requires  list of words in a tweet, and Python dictionary with words as keys and True as values.\n",
        "*   Prepare data for the Model inputs by Converting Tokens to a Dictionary"
      ],
      "metadata": {
        "id": "1CDMaN8jTlZr"
      }
    },
    {
      "cell_type": "code",
      "source": [
        "def fn_get_dictionary_tweets_for_model(cleaned_tokens_list):\n",
        "    for tweet_tokens in cleaned_tokens_list:\n",
        "        yield dict([token, True] for token in tweet_tokens)\n",
        "\n",
        "positive_tokens_for_model = fn_get_dictionary_tweets_for_model(positive_cleaned_tokens_list)\n",
        "negative_tokens_for_model = fn_get_dictionary_tweets_for_model(negative_cleaned_tokens_list)"
      ],
      "metadata": {
        "id": "iMtTEg9DTk3O"
      },
      "execution_count": null,
      "outputs": []
    },
    {
      "cell_type": "markdown",
      "source": [
        "## TRAIN AND TEST SPLIT OF DATA"
      ],
      "metadata": {
        "id": "T0PRRKfOUQeG"
      }
    },
    {
      "cell_type": "code",
      "source": [
        "import random\n",
        "positive_dataset = [(tweet_dict, \"Positive\")  for tweet_dict in positive_tokens_for_model]\n",
        "negative_dataset = [(tweet_dict, \"Negative\")  for tweet_dict in negative_tokens_for_model]\n",
        "\n",
        "dataset = positive_dataset + negative_dataset\n",
        "random.shuffle(dataset)\n",
        "\n",
        "train_data = dataset[:7000]\n",
        "test_data = dataset[7000:]"
      ],
      "metadata": {
        "id": "QeppBTqPUP7G"
      },
      "execution_count": null,
      "outputs": []
    },
    {
      "cell_type": "markdown",
      "source": [
        "## Build and Test the Model"
      ],
      "metadata": {
        "id": "HqMP8YqlUaB8"
      }
    },
    {
      "cell_type": "code",
      "source": [
        "from nltk import classify\n",
        "from nltk import NaiveBayesClassifier\n",
        "classifier = NaiveBayesClassifier.train(train_data)\n",
        "\n",
        "print(\"Accuracy is:\", classify.accuracy(classifier, test_data))\n",
        "\n",
        "print(classifier.show_most_informative_features(10))"
      ],
      "metadata": {
        "id": "hmd1pRNPUeFV",
        "outputId": "d1cd347b-25be-4dbd-d5f7-6677ae508caa",
        "colab": {
          "base_uri": "https://localhost:8080/"
        }
      },
      "execution_count": null,
      "outputs": [
        {
          "output_type": "stream",
          "name": "stdout",
          "text": [
            "Accuracy is: 0.9943333333333333\n",
            "Most Informative Features\n",
            "                      :( = True           Negati : Positi =   2061.2 : 1.0\n",
            "                      :) = True           Positi : Negati =   1665.7 : 1.0\n",
            "                follower = True           Positi : Negati =     36.9 : 1.0\n",
            "                     sad = True           Negati : Positi =     35.2 : 1.0\n",
            "                     bam = True           Positi : Negati =     24.1 : 1.0\n",
            "                 awesome = True           Positi : Negati =     21.4 : 1.0\n",
            "                    glad = True           Positi : Negati =     20.0 : 1.0\n",
            "                     x15 = True           Negati : Positi =     16.7 : 1.0\n",
            "               community = True           Positi : Negati =     15.3 : 1.0\n",
            "                 welcome = True           Positi : Negati =     15.0 : 1.0\n",
            "None\n"
          ]
        }
      ]
    },
    {
      "cell_type": "markdown",
      "source": [
        "### Analyze the above features.\n",
        "### What are the discriminating features for Sentiment?"
      ],
      "metadata": {
        "id": "yWixjOQrU53a"
      }
    },
    {
      "cell_type": "markdown",
      "source": [
        "### Analysis of Output\n",
        "*   Accuracy is defined as the percentage of tweets in the testing dataset for which the model was correctly able to predict the sentiment. A 99.5% accuracy on the test set is pretty good."
      ],
      "metadata": {
        "id": "3mSmFDEiUkJb"
      }
    },
    {
      "cell_type": "code",
      "source": [
        "test_tweet1 = \"I ordered just from TerribleCo, they didn't deliver properly and screwed up. I never used the app again.\"\n",
        "test_tweet2 = \"Thank you for sending my baggage to CityX and flying me to CityY at the same time. Brilliant service. #thanksGenericAirline.\"\n",
        "test_tweet = test_tweet2"
      ],
      "metadata": {
        "id": "7oiB3ZRNVe6Z"
      },
      "execution_count": null,
      "outputs": []
    },
    {
      "cell_type": "code",
      "source": [
        "test_tokens = fn_Remove_Noise(word_tokenize(test_tweet1))\n",
        "print(classifier.classify(dict([token, True] for token in test_tokens)))"
      ],
      "metadata": {
        "id": "OG-DuNlKVLgC"
      },
      "execution_count": null,
      "outputs": []
    },
    {
      "cell_type": "markdown",
      "source": [
        "# Named Entity Recognition or NER\n",
        "\n",
        "*   Named Entity Recognition–NER : NER is about  finding an answer to “the problem of locating and categorizing important nouns and proper nouns, in a text”\n",
        "*   Automatic methods should facilitate extraction of say named topics, issues, problems, and other “things” mentioned in texts (e.g. in\n",
        "articles).\n",
        "*   Library: the spaCy NER model (like **“en-core-web-lg**”) can be used to extract named entities. These entities have been linked by co-occurrence, and visualized as networks.\n",
        "*   SpaCy is simpler to use, and performed faster relative ot others like Transformers"
      ],
      "metadata": {
        "id": "ndN2dIy6b26v"
      }
    },
    {
      "cell_type": "markdown",
      "source": [
        "# NLP Methods\n",
        "text extraction, text cleaning, text preprocessing, keyword and keyphrase search, text embeddings, abstractive and extractive text summarization, text complexity and other methods such as: clustering, metadata analysis, citation/reference analysis, network visualization."
      ],
      "metadata": {
        "id": "8CUnuamlc8nt"
      }
    }
  ],
  "metadata": {
    "kernelspec": {
      "display_name": "Python 3",
      "language": "python",
      "name": "python3"
    },
    "colab": {
      "provenance": [],
      "toc_visible": true
    }
  },
  "nbformat": 4,
  "nbformat_minor": 0
}